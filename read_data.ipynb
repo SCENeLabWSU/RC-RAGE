{
  "nbformat": 4,
  "nbformat_minor": 0,
  "metadata": {
    "colab": {
      "name": "read_data.ipynb",
      "provenance": [],
      "authorship_tag": "ABX9TyP3NLsXN6LOX5v2NJ8DFfk1",
      "include_colab_link": true
    },
    "kernelspec": {
      "name": "python3",
      "display_name": "Python 3"
    }
  },
  "cells": [
    {
      "cell_type": "markdown",
      "metadata": {
        "id": "view-in-github",
        "colab_type": "text"
      },
      "source": [
        "<a href=\"https://colab.research.google.com/github/kywch/RC-RAGE_jsPsych/blob/master/read_data.ipynb\" target=\"_parent\"><img src=\"https://colab.research.google.com/assets/colab-badge.svg\" alt=\"Open In Colab\"/></a>"
      ]
    },
    {
      "cell_type": "markdown",
      "metadata": {
        "id": "jQ3OeyC_Q_Dw",
        "colab_type": "text"
      },
      "source": [
        "Please copy paste the result string below."
      ]
    },
    {
      "cell_type": "code",
      "metadata": {
        "id": "quXbskqyOLvX",
        "colab_type": "code",
        "colab": {}
      },
      "source": [
        "#@title String fields\n",
        "result_string = ' trial steal_timing finish_code click_cnt wasted_click points rt time_remain;1 Infinity 1 20 0 20 38492 141508;2 2 1 24 4 18 38896 102612;3 Infinity 1 20 0 20 30985 71627;4 3 1 20 0 15 33155 38472;attn NaN NaN NaN NaN NaN 1469 37003;5 4 99 12 -8 5 37005 -2;6 7 91 NaN NaN NaN NaN NaN;7 1 91 NaN NaN NaN NaN NaN;8 6 91 NaN NaN NaN NaN NaN;attn NaN NaN NaN NaN NaN NaN NaN;9 Infinity 91 NaN NaN NaN NaN NaN;' #@param {type:\"string\"}\n"
      ],
      "execution_count": 1,
      "outputs": []
    },
    {
      "cell_type": "code",
      "metadata": {
        "id": "X9Wg3P3WRP-m",
        "colab_type": "code",
        "colab": {
          "base_uri": "https://localhost:8080/",
          "height": 247
        },
        "outputId": "e5f3ec0a-2084-4f7a-984a-619dc15dc5d7"
      },
      "source": [
        "# delimiter - space (' '), newline - semicolon (';')\n",
        "result_csv = result_string.strip().replace(';', '\\n').replace(' ', ',')\n",
        "print(result_csv)"
      ],
      "execution_count": 2,
      "outputs": [
        {
          "output_type": "stream",
          "text": [
            "trial,steal_timing,finish_code,click_cnt,wasted_click,points,rt,time_remain\n",
            "1,Infinity,1,20,0,20,38492,141508\n",
            "2,2,1,24,4,18,38896,102612\n",
            "3,Infinity,1,20,0,20,30985,71627\n",
            "4,3,1,20,0,15,33155,38472\n",
            "attn,NaN,NaN,NaN,NaN,NaN,1469,37003\n",
            "5,4,99,12,-8,5,37005,-2\n",
            "6,7,91,NaN,NaN,NaN,NaN,NaN\n",
            "7,1,91,NaN,NaN,NaN,NaN,NaN\n",
            "8,6,91,NaN,NaN,NaN,NaN,NaN\n",
            "attn,NaN,NaN,NaN,NaN,NaN,NaN,NaN\n",
            "9,Infinity,91,NaN,NaN,NaN,NaN,NaN\n",
            "\n"
          ],
          "name": "stdout"
        }
      ]
    },
    {
      "cell_type": "code",
      "metadata": {
        "id": "WVKVYJ7tRgsC",
        "colab_type": "code",
        "colab": {}
      },
      "source": [
        "import pandas as pd\n",
        "from io import StringIO\n",
        "\n",
        "result_df = pd.read_csv(StringIO(result_csv))"
      ],
      "execution_count": 3,
      "outputs": []
    },
    {
      "cell_type": "code",
      "metadata": {
        "id": "9krdtIPDikXx",
        "colab_type": "code",
        "colab": {
          "base_uri": "https://localhost:8080/",
          "height": 377
        },
        "outputId": "18d540a9-b7e4-46c7-9a69-b81872a178fb"
      },
      "source": [
        "# Each trial consists of two harvests, and the robber appears during the first harvest\n",
        "# When the robber appears is controlled by steal_timing\n",
        "# Finish_code = 1: Two harvests were completed successfully\n",
        "# Finish_code = 99: The time ran out before completing two harvests\n",
        "# Finish_code = 91: The trial did not start.\n",
        "\n",
        "result_df"
      ],
      "execution_count": 4,
      "outputs": [
        {
          "output_type": "execute_result",
          "data": {
            "text/html": [
              "<div>\n",
              "<style scoped>\n",
              "    .dataframe tbody tr th:only-of-type {\n",
              "        vertical-align: middle;\n",
              "    }\n",
              "\n",
              "    .dataframe tbody tr th {\n",
              "        vertical-align: top;\n",
              "    }\n",
              "\n",
              "    .dataframe thead th {\n",
              "        text-align: right;\n",
              "    }\n",
              "</style>\n",
              "<table border=\"1\" class=\"dataframe\">\n",
              "  <thead>\n",
              "    <tr style=\"text-align: right;\">\n",
              "      <th></th>\n",
              "      <th>trial</th>\n",
              "      <th>steal_timing</th>\n",
              "      <th>finish_code</th>\n",
              "      <th>click_cnt</th>\n",
              "      <th>wasted_click</th>\n",
              "      <th>points</th>\n",
              "      <th>rt</th>\n",
              "      <th>time_remain</th>\n",
              "    </tr>\n",
              "  </thead>\n",
              "  <tbody>\n",
              "    <tr>\n",
              "      <th>0</th>\n",
              "      <td>1</td>\n",
              "      <td>inf</td>\n",
              "      <td>1.0</td>\n",
              "      <td>20.0</td>\n",
              "      <td>0.0</td>\n",
              "      <td>20.0</td>\n",
              "      <td>38492.0</td>\n",
              "      <td>141508.0</td>\n",
              "    </tr>\n",
              "    <tr>\n",
              "      <th>1</th>\n",
              "      <td>2</td>\n",
              "      <td>2.0</td>\n",
              "      <td>1.0</td>\n",
              "      <td>24.0</td>\n",
              "      <td>4.0</td>\n",
              "      <td>18.0</td>\n",
              "      <td>38896.0</td>\n",
              "      <td>102612.0</td>\n",
              "    </tr>\n",
              "    <tr>\n",
              "      <th>2</th>\n",
              "      <td>3</td>\n",
              "      <td>inf</td>\n",
              "      <td>1.0</td>\n",
              "      <td>20.0</td>\n",
              "      <td>0.0</td>\n",
              "      <td>20.0</td>\n",
              "      <td>30985.0</td>\n",
              "      <td>71627.0</td>\n",
              "    </tr>\n",
              "    <tr>\n",
              "      <th>3</th>\n",
              "      <td>4</td>\n",
              "      <td>3.0</td>\n",
              "      <td>1.0</td>\n",
              "      <td>20.0</td>\n",
              "      <td>0.0</td>\n",
              "      <td>15.0</td>\n",
              "      <td>33155.0</td>\n",
              "      <td>38472.0</td>\n",
              "    </tr>\n",
              "    <tr>\n",
              "      <th>4</th>\n",
              "      <td>attn</td>\n",
              "      <td>NaN</td>\n",
              "      <td>NaN</td>\n",
              "      <td>NaN</td>\n",
              "      <td>NaN</td>\n",
              "      <td>NaN</td>\n",
              "      <td>1469.0</td>\n",
              "      <td>37003.0</td>\n",
              "    </tr>\n",
              "    <tr>\n",
              "      <th>5</th>\n",
              "      <td>5</td>\n",
              "      <td>4.0</td>\n",
              "      <td>99.0</td>\n",
              "      <td>12.0</td>\n",
              "      <td>-8.0</td>\n",
              "      <td>5.0</td>\n",
              "      <td>37005.0</td>\n",
              "      <td>-2.0</td>\n",
              "    </tr>\n",
              "    <tr>\n",
              "      <th>6</th>\n",
              "      <td>6</td>\n",
              "      <td>7.0</td>\n",
              "      <td>91.0</td>\n",
              "      <td>NaN</td>\n",
              "      <td>NaN</td>\n",
              "      <td>NaN</td>\n",
              "      <td>NaN</td>\n",
              "      <td>NaN</td>\n",
              "    </tr>\n",
              "    <tr>\n",
              "      <th>7</th>\n",
              "      <td>7</td>\n",
              "      <td>1.0</td>\n",
              "      <td>91.0</td>\n",
              "      <td>NaN</td>\n",
              "      <td>NaN</td>\n",
              "      <td>NaN</td>\n",
              "      <td>NaN</td>\n",
              "      <td>NaN</td>\n",
              "    </tr>\n",
              "    <tr>\n",
              "      <th>8</th>\n",
              "      <td>8</td>\n",
              "      <td>6.0</td>\n",
              "      <td>91.0</td>\n",
              "      <td>NaN</td>\n",
              "      <td>NaN</td>\n",
              "      <td>NaN</td>\n",
              "      <td>NaN</td>\n",
              "      <td>NaN</td>\n",
              "    </tr>\n",
              "    <tr>\n",
              "      <th>9</th>\n",
              "      <td>attn</td>\n",
              "      <td>NaN</td>\n",
              "      <td>NaN</td>\n",
              "      <td>NaN</td>\n",
              "      <td>NaN</td>\n",
              "      <td>NaN</td>\n",
              "      <td>NaN</td>\n",
              "      <td>NaN</td>\n",
              "    </tr>\n",
              "    <tr>\n",
              "      <th>10</th>\n",
              "      <td>9</td>\n",
              "      <td>inf</td>\n",
              "      <td>91.0</td>\n",
              "      <td>NaN</td>\n",
              "      <td>NaN</td>\n",
              "      <td>NaN</td>\n",
              "      <td>NaN</td>\n",
              "      <td>NaN</td>\n",
              "    </tr>\n",
              "  </tbody>\n",
              "</table>\n",
              "</div>"
            ],
            "text/plain": [
              "   trial  steal_timing  finish_code  ...  points       rt  time_remain\n",
              "0      1           inf          1.0  ...    20.0  38492.0     141508.0\n",
              "1      2           2.0          1.0  ...    18.0  38896.0     102612.0\n",
              "2      3           inf          1.0  ...    20.0  30985.0      71627.0\n",
              "3      4           3.0          1.0  ...    15.0  33155.0      38472.0\n",
              "4   attn           NaN          NaN  ...     NaN   1469.0      37003.0\n",
              "5      5           4.0         99.0  ...     5.0  37005.0         -2.0\n",
              "6      6           7.0         91.0  ...     NaN      NaN          NaN\n",
              "7      7           1.0         91.0  ...     NaN      NaN          NaN\n",
              "8      8           6.0         91.0  ...     NaN      NaN          NaN\n",
              "9   attn           NaN          NaN  ...     NaN      NaN          NaN\n",
              "10     9           inf         91.0  ...     NaN      NaN          NaN\n",
              "\n",
              "[11 rows x 8 columns]"
            ]
          },
          "metadata": {
            "tags": []
          },
          "execution_count": 4
        }
      ]
    }
  ]
}